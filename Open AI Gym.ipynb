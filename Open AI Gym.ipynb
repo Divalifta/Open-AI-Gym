{
 "cells": [
  {
   "cell_type": "code",
   "execution_count": 11,
   "metadata": {},
   "outputs": [
    {
     "name": "stdout",
     "output_type": "stream",
     "text": [
      "Requirement already satisfied: gym in d:\\anaconda\\lib\\site-packages (0.26.2)\n",
      "Requirement already satisfied: numpy>=1.18.0 in d:\\anaconda\\lib\\site-packages (from gym) (1.26.4)\n",
      "Requirement already satisfied: cloudpickle>=1.2.0 in d:\\anaconda\\lib\\site-packages (from gym) (2.2.1)\n",
      "Requirement already satisfied: gym-notices>=0.0.4 in d:\\anaconda\\lib\\site-packages (from gym) (0.0.8)\n",
      "Note: you may need to restart the kernel to use updated packages.\n"
     ]
    },
    {
     "name": "stderr",
     "output_type": "stream",
     "text": [
      "WARNING: Skipping d:\\Anaconda\\Lib\\site-packages\\pyviz_comms-3.0.0.dist-info due to invalid metadata entry 'name'\n",
      "WARNING: Skipping d:\\Anaconda\\Lib\\site-packages\\pyviz_comms-3.0.0.dist-info due to invalid metadata entry 'name'\n",
      "WARNING: Skipping d:\\Anaconda\\Lib\\site-packages\\pyviz_comms-3.0.0.dist-info due to invalid metadata entry 'name'\n",
      "WARNING: Skipping d:\\Anaconda\\Lib\\site-packages\\pyviz_comms-3.0.0.dist-info due to invalid metadata entry 'name'\n"
     ]
    }
   ],
   "source": [
    "pip install gym"
   ]
  },
  {
   "cell_type": "code",
   "execution_count": 21,
   "metadata": {},
   "outputs": [],
   "source": [
    "import gym\n",
    "import random"
   ]
  },
  {
   "cell_type": "code",
   "execution_count": 22,
   "metadata": {},
   "outputs": [],
   "source": [
    "from tensorflow.keras.models import Sequential\n",
    "from tensorflow.keras.layers import Dense, Flatten\n",
    "from tensorflow.keras.optimizers import Adam"
   ]
  },
  {
   "cell_type": "code",
   "execution_count": 23,
   "metadata": {},
   "outputs": [],
   "source": [
    "env = gym.make(\"CartPole-v1\", render_mode = \"human\")"
   ]
  },
  {
   "cell_type": "code",
   "execution_count": 24,
   "metadata": {},
   "outputs": [],
   "source": [
    "import pyglet\n",
    "import pygame"
   ]
  },
  {
   "cell_type": "code",
   "execution_count": 25,
   "metadata": {},
   "outputs": [
    {
     "name": "stderr",
     "output_type": "stream",
     "text": [
      "d:\\Anaconda\\Lib\\site-packages\\gym\\utils\\passive_env_checker.py:233: DeprecationWarning: `np.bool8` is a deprecated alias for `np.bool_`.  (Deprecated NumPy 1.24)\n",
      "  if not isinstance(terminated, (bool, np.bool8)):\n"
     ]
    },
    {
     "name": "stdout",
     "output_type": "stream",
     "text": [
      "Episode: 1, Score: 13.0\n",
      "Episode: 2, Score: 19.0\n",
      "Episode: 3, Score: 15.0\n",
      "Episode: 4, Score: 16.0\n",
      "Episode: 5, Score: 17.0\n",
      "Episode: 6, Score: 46.0\n",
      "Episode: 7, Score: 14.0\n",
      "Episode: 8, Score: 13.0\n",
      "Episode: 9, Score: 13.0\n",
      "Episode: 10, Score: 10.0\n",
      "Episode: 11, Score: 20.0\n",
      "Episode: 12, Score: 25.0\n",
      "Episode: 13, Score: 14.0\n",
      "Episode: 14, Score: 19.0\n",
      "Episode: 15, Score: 15.0\n",
      "Episode: 16, Score: 18.0\n",
      "Episode: 17, Score: 21.0\n",
      "Episode: 18, Score: 42.0\n",
      "Episode: 19, Score: 45.0\n",
      "Episode: 20, Score: 21.0\n"
     ]
    }
   ],
   "source": [
    "episodes = 20\n",
    "for episode in range(1, episodes+1):\n",
    "    state = env.reset()\n",
    "    done = False\n",
    "    score = 0\n",
    "\n",
    "    while not done:\n",
    "        action = random.choice([0,1])\n",
    "        state, reward, done, *other_info = env.step(action)  # Unpack only relevant values\n",
    "        score += reward\n",
    "        env.render()\n",
    "\n",
    "    print(f\"Episode: {episode}, Score: {score}\")\n"
   ]
  },
  {
   "cell_type": "code",
   "execution_count": 26,
   "metadata": {},
   "outputs": [],
   "source": [
    "env.close()"
   ]
  }
 ],
 "metadata": {
  "kernelspec": {
   "display_name": "base",
   "language": "python",
   "name": "python3"
  },
  "language_info": {
   "codemirror_mode": {
    "name": "ipython",
    "version": 3
   },
   "file_extension": ".py",
   "mimetype": "text/x-python",
   "name": "python",
   "nbconvert_exporter": "python",
   "pygments_lexer": "ipython3",
   "version": "3.11.7"
  }
 },
 "nbformat": 4,
 "nbformat_minor": 2
}
